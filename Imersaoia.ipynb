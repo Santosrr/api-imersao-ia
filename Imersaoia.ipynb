{
  "nbformat": 4,
  "nbformat_minor": 0,
  "metadata": {
    "colab": {
      "provenance": [],
      "authorship_tag": "ABX9TyPHrYtVgCTRq0BXqK6ouAHY",
      "include_colab_link": true
    },
    "kernelspec": {
      "name": "python3",
      "display_name": "Python 3"
    },
    "language_info": {
      "name": "python"
    }
  },
  "cells": [
    {
      "cell_type": "markdown",
      "metadata": {
        "id": "view-in-github",
        "colab_type": "text"
      },
      "source": [
        "<a href=\"https://colab.research.google.com/github/Santosrr/api-imersao-ia/blob/main/Imersaoia.ipynb\" target=\"_parent\"><img src=\"https://colab.research.google.com/assets/colab-badge.svg\" alt=\"Open In Colab\"/></a>"
      ]
    },
    {
      "cell_type": "markdown",
      "source": [
        "Instalando SDK do Google"
      ],
      "metadata": {
        "id": "XEKl3pF29Zkw"
      }
    },
    {
      "cell_type": "code",
      "execution_count": 27,
      "metadata": {
        "id": "J6Pd9SFJ1yVi"
      },
      "outputs": [],
      "source": [
        "!pip install -q -U google-generativeai"
      ]
    },
    {
      "cell_type": "code",
      "execution_count": 28,
      "metadata": {
        "id": "HTiaTu6O1LRC"
      },
      "outputs": [],
      "source": [
        "# Import the Python SDK\n",
        "import google.generativeai as genai\n",
        "from google.colab import userdata\n",
        "api_kei = userdata.get('secret_key')\n",
        "\n",
        "GOOGLE_API_KEY= api_kei\n",
        "genai.configure(api_key=GOOGLE_API_KEY)"
      ]
    },
    {
      "cell_type": "markdown",
      "source": [
        "Listar os modelos disponíveis"
      ],
      "metadata": {
        "id": "Cm9cQr81-XWs"
      }
    },
    {
      "cell_type": "code",
      "source": [
        "for m in genai.list_models():\n",
        "  if 'generateContent' in m.supported_generation_methods:\n",
        "    print(m.name)"
      ],
      "metadata": {
        "colab": {
          "base_uri": "https://localhost:8080/",
          "height": 139
        },
        "id": "kuIvwSor-Wfs",
        "outputId": "8c194e2a-9862-447c-f448-14d088c1c70b"
      },
      "execution_count": 29,
      "outputs": [
        {
          "output_type": "stream",
          "name": "stdout",
          "text": [
            "models/gemini-1.0-pro\n",
            "models/gemini-1.0-pro-001\n",
            "models/gemini-1.0-pro-latest\n",
            "models/gemini-1.0-pro-vision-latest\n",
            "models/gemini-1.5-pro-latest\n",
            "models/gemini-pro\n",
            "models/gemini-pro-vision\n"
          ]
        }
      ]
    },
    {
      "cell_type": "code",
      "source": [
        "generate_config = {\n",
        "    'candidate_count': 1,\n",
        "    'temperature' : 0.5,\n",
        "}"
      ],
      "metadata": {
        "id": "QR7XyRzBBLOO"
      },
      "execution_count": 30,
      "outputs": []
    },
    {
      "cell_type": "code",
      "source": [
        "safety_settings = {\n",
        "    'Harassment' : 'BlocK_Nome',\n",
        "    'Hate' : 'BlocK_Nome',\n",
        "    'Sexual' : 'BlocK_Nome',\n",
        "    'Dangerous' : 'BlocK_Nome',\n",
        "\n",
        "}"
      ],
      "metadata": {
        "id": "H0Xu7owjCfkC"
      },
      "execution_count": 31,
      "outputs": []
    },
    {
      "cell_type": "markdown",
      "source": [
        "Inicializando o modelo"
      ],
      "metadata": {
        "id": "jjQsK-s3FUG0"
      }
    },
    {
      "cell_type": "code",
      "source": [
        "model = genai.GenerativeModel('gemini-pro')\n",
        "\n",
        ""
      ],
      "metadata": {
        "id": "7ddfg_VoFbcK"
      },
      "execution_count": 35,
      "outputs": []
    },
    {
      "cell_type": "code",
      "source": [
        "generate_config = generate_config,\n",
        "safety_settings = safety_settings,"
      ],
      "metadata": {
        "id": "yoZuEdR4RAUt"
      },
      "execution_count": 36,
      "outputs": []
    },
    {
      "cell_type": "code",
      "source": [
        "response = model.generate_content(\"Vamos aprender conteúdos dobre IA. Mê de sugestões\")\n",
        "print(response.text)"
      ],
      "metadata": {
        "colab": {
          "base_uri": "https://localhost:8080/",
          "height": 575
        },
        "id": "69tHSXzyRqHg",
        "outputId": "2430926d-7e1a-4997-ef2d-176070d3e102"
      },
      "execution_count": 37,
      "outputs": [
        {
          "output_type": "stream",
          "name": "stdout",
          "text": [
            "**Recursos Online**\n",
            "\n",
            "* **Coursera:** Cursos de IA para iniciantes e especialistas, como \"Aprendizado de Máquina\" e \"Inteligência Artificial: Fundamentos\"\n",
            "* **edX:** Cursos de IA de universidades de renome, como MIT e Harvard, como \"Introdução à Inteligência Artificial\" e \"Aprendizado Profundo\"\n",
            "* **Udemy:** Cursos de IA sob demanda com foco em tópicos específicos, como \"TensorFlow para Iniciantes\" e \"Processamento de Linguagem Natural\"\n",
            "* **MIT OpenCourseWare:** Notas de aula e vídeos de cursos de IA do MIT para autoaprendizagem, como \"Introdução à Inteligência Artificial\" e \"Aprendizado Profundo\"\n",
            "* **Google AI:** Cursos e recursos gratuitos sobre tópicos avançados de IA, como \"Aprendizado por Reforço\" e \"Visão Computacional\"\n",
            "\n",
            "**Livros**\n",
            "\n",
            "* **Inteligência Artificial: Uma Abordagem Moderna:** Russell e Norvig (livro clássico sobre os fundamentos da IA)\n",
            "* **Aprendizado de Máquina com TensorFlow:** Géron (guia prático para aprendizado de máquina)\n",
            "* **Deep Learning:** Goodfellow, Bengio e Courville (livro abrangente sobre redes neurais)\n",
            "* **Inteligência Artificial: Um Guia Contemporâneo para a Mente e o Mundo:** Stuart Russell e Peter Norvig (uma visão geral atualizada da IA)\n",
            "* **IA para Todos: Um Guia Prático para o Aprendizado de Máquina:** Joel Grus (introdução acessível à IA e aprendizado de máquina)\n",
            "\n",
            "**Revistas e Blogs**\n",
            "\n",
            "* **Nature Machine Intelligence:** Revista que publica pesquisas de ponta em IA\n",
            "* **IEEE Transactions on Artificial Intelligence:** Revista técnica que cobre todos os aspectos da IA\n",
            "* **MIT Technology Review:** Blog que aborda os últimos avanços em tecnologia e IA\n",
            "* **Wired:** Revista online que cobre tópicos como IA, ciência e cultura\n",
            "* **The Verge:** Site de tecnologia que cobre IA e outros tópicos emergentes\n",
            "\n",
            "**Comunidades e Fóruns**\n",
            "\n",
            "* **Kaggle:** Comunidade online para cientistas de dados e entusiastas de IA participarem de competições e compartilharem conhecimento\n",
            "* **Reddit r/MachineLearning:** Fórum dedicado a discutir aprendizado de máquina e IA\n",
            "* **Stack Overflow:** Site de perguntas e respostas onde os usuários podem obter ajuda com problemas técnicos relacionados à IA\n",
            "* **Meetup:** Plataforma para encontrar grupos locais e participar de eventos relacionados à IA\n",
            "* **Conferências de IA:** Participe de conferências como NeurIPS, ICML e AAAI para se conectar com especialistas e aprender sobre os últimos avanços\n"
          ]
        }
      ]
    },
    {
      "cell_type": "code",
      "source": [
        "chat = model.start_chat(history=[])"
      ],
      "metadata": {
        "id": "k53Qc3T1Skiv"
      },
      "execution_count": 38,
      "outputs": []
    },
    {
      "cell_type": "code",
      "source": [
        "prompt = input('Esperando prompt: ')\n",
        "while prompt != 'fim':\n",
        "  response = chat.send_message(prompt)\n",
        "  print('Respostas:', response.text, '\\n')\n",
        "  prompt = input('Esperando prompt: ')"
      ],
      "metadata": {
        "colab": {
          "base_uri": "https://localhost:8080/",
          "height": 295
        },
        "id": "XBumcsoRTtD-",
        "outputId": "b66588b9-bbac-4dbb-a465-6270c198044f"
      },
      "execution_count": 42,
      "outputs": [
        {
          "name": "stdout",
          "output_type": "stream",
          "text": [
            "Esperando prompt: Qual a capital do japão ?\n",
            "Respostas: Tóquio \n",
            "\n",
            "Esperando prompt: Qual o esporte cultural desse país?\n",
            "Respostas: Sumô \n",
            "\n",
            "Esperando prompt: Meu prima nasceu nessa cidade. Qual a nacionalidade dele?\n",
            "Respostas: Japonesa \n",
            "\n",
            "Esperando prompt: E qual a população dessa cidade?\n",
            "Respostas: Tóquio tem uma população de aproximadamente 13.960.000 habitantes (estimativa para 2023). \n",
            "\n",
            "Esperando prompt: Fim\n",
            "Respostas: Obrigado por jogar! \n",
            "\n",
            "Esperando prompt: fim\n"
          ]
        }
      ]
    },
    {
      "cell_type": "code",
      "source": [
        "# Função de entrada para obter o prompt do usuário\n",
        "def obter_prompt():\n",
        "  prompt = input(\"Esperando prompt: \")\n",
        "  return prompt\n",
        "\n",
        "# Função para enviar o prompt para o chatbot e retornar a resposta\n",
        "def enviar_prompt_para_chatbot(prompt):\n",
        "  response = chat.send_message(prompt)\n",
        "  return response\n",
        "\n",
        "# Loop principal da conversa\n",
        "while True:\n",
        "  # Obter o prompt do usuário\n",
        "  prompt = obter_prompt()\n",
        "\n",
        "  # Sair do loop se o prompt for \"fim\"\n",
        "  if prompt == \"fim\":\n",
        "    break\n",
        "\n",
        "  # Enviar o prompt para o chatbot e exibir a resposta\n",
        "  response = enviar_prompt_para_chatbot(prompt)\n",
        "  print(\"Respostas:\", response.text, \"\\n\")\n",
        "\n",
        "import textwrap\n",
        "\n",
        "def exibir_historico(historico):\n",
        "  # Formatar e exibir o histórico de conversas\n",
        "  for mensagem in historico:\n",
        "    mensagem_formatada = textwrap.fill(mensagem, width=70)\n",
        "    if mensagem.startswith(\"Usuário\"):\n",
        "      print(f\"\\033[1;33m{mensagem_formatada}\\033[0m\")  # Cor verde para o usuário\n",
        "    else:\n",
        "      print(f\"\\033[1;36m{mensagem_formatada}\\033[0m\")  # Cor azul para o chatbot\n",
        "\n",
        "  print()  # Adiciona uma linha em branco após o histórico\n",
        "\n",
        "\n",
        "while True:\n",
        "  # ... (obter prompt do usuário)\n",
        "\n",
        "  # Verificar comando para exibir histórico\n",
        "  if prompt.lower() == \"histórico\":\n",
        "    exibir_historico(historico_conversa)\n",
        "    continue\n",
        "\n",
        "  # ... (enviar prompt para o chatbot)\n",
        "\n",
        "\n"
      ],
      "metadata": {
        "colab": {
          "base_uri": "https://localhost:8080/",
          "height": 295
        },
        "id": "_7uS76y7Y5CR",
        "outputId": "6fdcab1e-69bf-4954-9927-ba010c68781d"
      },
      "execution_count": null,
      "outputs": [
        {
          "name": "stdout",
          "output_type": "stream",
          "text": [
            "Esperando prompt: Quais os países do oriente médio ?\n",
            "Respostas: * Arábia Saudita\n",
            "* Bahrein\n",
            "* Catar\n",
            "* Emirados Árabes Unidos\n",
            "* Iêmen\n",
            "* Iraque\n",
            "* Irã\n",
            "* Jordânia\n",
            "* Kuwait\n",
            "* Líbano\n",
            "* Omã\n",
            "* Palestina\n",
            "* Síria \n",
            "\n",
            "Esperando prompt: fim\n"
          ]
        }
      ]
    },
    {
      "cell_type": "code",
      "source": [],
      "metadata": {
        "id": "6T-4m1B8d8js"
      },
      "execution_count": null,
      "outputs": []
    }
  ]
}